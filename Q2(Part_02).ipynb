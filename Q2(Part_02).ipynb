{
  "nbformat": 4,
  "nbformat_minor": 0,
  "metadata": {
    "colab": {
      "provenance": [],
      "authorship_tag": "ABX9TyNEaSrcj0KxIiPLcSyd775B",
      "include_colab_link": true
    },
    "kernelspec": {
      "name": "python3",
      "display_name": "Python 3"
    },
    "language_info": {
      "name": "python"
    }
  },
  "cells": [
    {
      "cell_type": "markdown",
      "metadata": {
        "id": "view-in-github",
        "colab_type": "text"
      },
      "source": [
        "<a href=\"https://colab.research.google.com/github/Irtaza12/P4AI/blob/main/Q2(Part_02).ipynb\" target=\"_parent\"><img src=\"https://colab.research.google.com/assets/colab-badge.svg\" alt=\"Open In Colab\"/></a>"
      ]
    },
    {
      "cell_type": "code",
      "execution_count": null,
      "metadata": {
        "colab": {
          "base_uri": "https://localhost:8080/"
        },
        "id": "8GZ__KA488js",
        "outputId": "2d11a17d-7688-484a-f9ce-108be70a7fb5"
      },
      "outputs": [
        {
          "output_type": "stream",
          "name": "stdout",
          "text": [
            "Generated Puzzle:\n",
            "[1, 6, 8]\n",
            "[4, 5, 3]\n",
            "[7, 2, 0]\n"
          ]
        }
      ],
      "source": [
        "import random\n",
        "\n",
        "def generate_puzzle():\n",
        "    numbers = list(range(9))\n",
        "    random.shuffle(numbers)\n",
        "    puzzle = [numbers[i:i+3] for i in range(0, 9, 3)]\n",
        "    return puzzle\n",
        "\n",
        "def print_puzzle(puzzle):\n",
        "    for row in puzzle:\n",
        "        print(row)\n",
        "\n",
        "if __name__ == \"__main__\":\n",
        "    puzzle = generate_puzzle()\n",
        "    print(\"Generated Puzzle:\")\n",
        "    print_puzzle(puzzle)\n"
      ]
    }
  ]
}